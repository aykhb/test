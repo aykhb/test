{
  "nbformat": 4,
  "nbformat_minor": 0,
  "metadata": {
    "colab": {
      "name": "Untitled0.ipynb",
      "provenance": [],
      "authorship_tag": "ABX9TyP7UYg0agbKYngZWfLv5om3",
      "include_colab_link": true
    },
    "kernelspec": {
      "name": "python3",
      "display_name": "Python 3"
    },
    "language_info": {
      "name": "python"
    }
  },
  "cells": [
    {
      "cell_type": "markdown",
      "metadata": {
        "id": "view-in-github",
        "colab_type": "text"
      },
      "source": [
        "<a href=\"https://colab.research.google.com/github/aykhb/test/blob/main/Untitled0.ipynb\" target=\"_parent\"><img src=\"https://colab.research.google.com/assets/colab-badge.svg\" alt=\"Open In Colab\"/></a>"
      ]
    },
    {
      "cell_type": "code",
      "source": [
        "#ライブラリのインポート\n",
        "import keras\n",
        "from keras.datasets import mnist\n",
        "from keras.models import Sequential\n",
        "from keras.layers import Conv2D, MaxPooling2D\n",
        "from keras.layers import Dense, Dropout, Flatten\n",
        "from tensorflow.keras.optimizers import Adam\n",
        "from tensorflow.keras import utils as np_utils\n",
        "import time\n",
        "import numpy as np\n",
        "from matplotlib import pyplot\n",
        "import matplotlib.pyplot as plt"
      ],
      "metadata": {
        "id": "sHz1CujxLxHW"
      },
      "execution_count": 2,
      "outputs": []
    },
    {
      "cell_type": "code",
      "source": [
        "#画像データの読み込み\n",
        "(x_train, y_train), (x_test, y_test) = mnist.load_data()\n",
        "y_train_for_image = y_train\n",
        "y_test_for_image = y_test"
      ],
      "metadata": {
        "colab": {
          "base_uri": "https://localhost:8080/"
        },
        "id": "gNNwjwlnL-k7",
        "outputId": "162a2db7-c344-4034-cbbe-bac0e23616be"
      },
      "execution_count": 3,
      "outputs": [
        {
          "output_type": "stream",
          "name": "stdout",
          "text": [
            "Downloading data from https://storage.googleapis.com/tensorflow/tf-keras-datasets/mnist.npz\n",
            "11493376/11490434 [==============================] - 0s 0us/step\n",
            "11501568/11490434 [==============================] - 0s 0us/step\n"
          ]
        }
      ]
    },
    {
      "cell_type": "code",
      "source": [
        "#画像データを表示\n",
        "#n_of_imagesは，表示する画像数\n",
        "n_of_images = 5\n",
        "for i in range(n_of_images):\n",
        "  n = i\n",
        "  print(\"ラベル\", y_train_for_image[n])\n",
        "  plt.imshow(x_train[n].reshape(28, 28), cmap='Greys')\n",
        "  plt.show()"
      ],
      "metadata": {
        "colab": {
          "base_uri": "https://localhost:8080/",
          "height": 1000
        },
        "id": "KeJFLTBAMITB",
        "outputId": "0d04ef84-60e0-4b55-9e2b-d6be325b4a27"
      },
      "execution_count": 4,
      "outputs": [
        {
          "output_type": "stream",
          "name": "stdout",
          "text": [
            "ラベル 5\n"
          ]
        },
        {
          "output_type": "display_data",
          "data": {
            "text/plain": [
              "<Figure size 432x288 with 1 Axes>"
            ],
            "image/png": "[encoded data removed]"
          },
          "metadata": {
            "needs_background": "light"
          }
        },
        {
          "output_type": "stream",
          "name": "stdout",
          "text": [
            "ラベル 0\n"
          ]
        },
        {
          "output_type": "display_data",
          "data": {
            "text/plain": [
              "<Figure size 432x288 with 1 Axes>"
            ],
            "image/png": "[encoded data removed]"
          },
          "metadata": {
            "needs_background": "light"
          }
        },
        {
          "output_type": "stream",
          "name": "stdout",
          "text": [
            "ラベル 4\n"
          ]
        },
        {
          "output_type": "display_data",
          "data": {
            "text/plain": [
              "<Figure size 432x288 with 1 Axes>"
            ],
            "image/png": "[encoded data removed]"
          },
          "metadata": {
            "needs_background": "light"
          }
        },
        {
          "output_type": "stream",
          "name": "stdout",
          "text": [
            "ラベル 1\n"
          ]
        },
        {
          "output_type": "display_data",
          "data": {
            "text/plain": [
              "<Figure size 432x288 with 1 Axes>"
            ],
            "image/png": "[encoded data removed]"
          },
          "metadata": {
            "needs_background": "light"
          }
        },
        {
          "output_type": "stream",
          "name": "stdout",
          "text": [
            "ラベル 9\n"
          ]
        },
        {
          "output_type": "display_data",
          "data": {
            "text/plain": [
              "<Figure size 432x288 with 1 Axes>"
            ],
            "image/png": "[encoded data removed]"
          },
          "metadata": {
            "needs_background": "light"
          }
        }
      ]
    },
    {
      "cell_type": "code",
      "source": [
        "#学習に必要なデータの形に加工する\n",
        "#データ形式の設定・正規化\n",
        "x_train = x_train.reshape(x_train.shape[0], 28, 28, 1)\n",
        "x_test = x_test.reshape(x_test.shape[0], 28, 28, 1)\n",
        "x_train = x_train.astype('float32')/255\n",
        "x_test = x_test.astype('float32')/255\n",
        "#ラベルデータをOne-hotベクトルに変更\n",
        "y_train = np_utils.to_categorical(y_train, 10)\n",
        "y_test = np_utils.to_categorical(y_test, 10)"
      ],
      "metadata": {
        "id": "x8K5ZMM1MMmp"
      },
      "execution_count": 5,
      "outputs": []
    },
    {
      "cell_type": "code",
      "source": [
        "#畳み込みニューラルネットワークの実装\n",
        "model = Sequential()\n",
        "model.add(Conv2D(16, (3, 3), padding='same',\n",
        "input_shape=(28, 28, 1), activation='relu'))\n",
        "model.add(MaxPooling2D(pool_size=(2, 2)))\n",
        "model.add(Conv2D(128, (3, 3), activation='relu'))\n",
        "model.add(Conv2D(256, (3, 3), activation='relu'))\n",
        "model.add(MaxPooling2D(pool_size=(2, 2)))\n",
        "model.add(Dropout(0.5))\n",
        "model.add(Flatten())\n",
        "model.add(Dense(128, activation='relu'))\n",
        "model.add(Dropout(0.25))\n",
        "model.add(Dense(10, activation='softmax'))"
      ],
      "metadata": {
        "id": "qTE9-gH8MQDb"
      },
      "execution_count": 6,
      "outputs": []
    },
    {
      "cell_type": "code",
      "source": [
        "#損失関数（loss），最適化関数（optimiser），評価関数（metrics）を指定\n",
        "model.compile(loss='categorical_crossentropy',optimizer=Adam(),metrics=['accuracy'])\n",
        "start_time = time.time()#処理"
      ],
      "metadata": {
        "id": "Dh_iyn6xMTFp"
      },
      "execution_count": 7,
      "outputs": []
    },
    {
      "cell_type": "code",
      "source": [
        "#学習の実行\n",
        "hist = model.fit(x_train, y_train, batch_size=1024, epochs=20,verbose=1, validation_data=(x_test, y_test))"
      ],
      "metadata": {
        "colab": {
          "base_uri": "https://localhost:8080/"
        },
        "id": "InrGFVuBMWo0",
        "outputId": "b941e167-c35a-4a79-94a6-7e238a0e12d2"
      },
      "execution_count": null,
      "outputs": [
        {
          "output_type": "stream",
          "name": "stdout",
          "text": [
            "Epoch 1/20\n",
            "59/59 [==============================] - 296s 5s/step - loss: 0.4730 - accuracy: 0.8539 - val_loss: 0.0827 - val_accuracy: 0.9725\n",
            "Epoch 2/20\n",
            "59/59 [==============================] - 291s 5s/step - loss: 0.0974 - accuracy: 0.9698 - val_loss: 0.0484 - val_accuracy: 0.9830\n",
            "Epoch 3/20\n",
            "59/59 [==============================] - 290s 5s/step - loss: 0.0672 - accuracy: 0.9799 - val_loss: 0.0384 - val_accuracy: 0.9869\n",
            "Epoch 4/20\n",
            "59/59 [==============================] - 287s 5s/step - loss: 0.0539 - accuracy: 0.9834 - val_loss: 0.0324 - val_accuracy: 0.9884\n",
            "Epoch 5/20\n",
            "59/59 [==============================] - 285s 5s/step - loss: 0.0429 - accuracy: 0.9866 - val_loss: 0.0242 - val_accuracy: 0.9914\n",
            "Epoch 6/20\n",
            "59/59 [==============================] - 285s 5s/step - loss: 0.0373 - accuracy: 0.9880 - val_loss: 0.0243 - val_accuracy: 0.9914\n",
            "Epoch 7/20\n",
            "59/59 [==============================] - 283s 5s/step - loss: 0.0329 - accuracy: 0.9897 - val_loss: 0.0237 - val_accuracy: 0.9915\n",
            "Epoch 8/20\n",
            "59/59 [==============================] - 284s 5s/step - loss: 0.0302 - accuracy: 0.9905 - val_loss: 0.0219 - val_accuracy: 0.9920\n",
            "Epoch 9/20\n",
            "59/59 [==============================] - 285s 5s/step - loss: 0.0250 - accuracy: 0.9920 - val_loss: 0.0199 - val_accuracy: 0.9929\n",
            "Epoch 10/20\n",
            "59/59 [==============================] - 285s 5s/step - loss: 0.0224 - accuracy: 0.9933 - val_loss: 0.0223 - val_accuracy: 0.9927\n",
            "Epoch 11/20\n",
            "59/59 [==============================] - 286s 5s/step - loss: 0.0205 - accuracy: 0.9933 - val_loss: 0.0211 - val_accuracy: 0.9930\n",
            "Epoch 12/20\n",
            "59/59 [==============================] - 286s 5s/step - loss: 0.0197 - accuracy: 0.9936 - val_loss: 0.0210 - val_accuracy: 0.9929\n",
            "Epoch 13/20\n",
            "59/59 [==============================] - 284s 5s/step - loss: 0.0182 - accuracy: 0.9942 - val_loss: 0.0203 - val_accuracy: 0.9929\n",
            "Epoch 14/20\n",
            "59/59 [==============================] - 284s 5s/step - loss: 0.0170 - accuracy: 0.9944 - val_loss: 0.0212 - val_accuracy: 0.9929\n",
            "Epoch 15/20\n",
            "59/59 [==============================] - 283s 5s/step - loss: 0.0148 - accuracy: 0.9950 - val_loss: 0.0207 - val_accuracy: 0.9937\n",
            "Epoch 16/20\n",
            "59/59 [==============================] - 283s 5s/step - loss: 0.0130 - accuracy: 0.9954 - val_loss: 0.0231 - val_accuracy: 0.9934\n",
            "Epoch 17/20\n",
            "59/59 [==============================] - 282s 5s/step - loss: 0.0134 - accuracy: 0.9956 - val_loss: 0.0215 - val_accuracy: 0.9929\n",
            "Epoch 18/20\n",
            "59/59 [==============================] - 281s 5s/step - loss: 0.0142 - accuracy: 0.9953 - val_loss: 0.0199 - val_accuracy: 0.9937\n",
            "Epoch 19/20\n",
            "59/59 [==============================] - 282s 5s/step - loss: 0.0125 - accuracy: 0.9958 - val_loss: 0.0194 - val_accuracy: 0.9933\n",
            "Epoch 20/20\n",
            "36/59 [=================>............] - ETA: 1:46 - loss: 0.0106 - accuracy: 0.9966"
          ]
        }
      ]
    },
    {
      "cell_type": "code",
      "source": [
        "#学習結果１\n",
        "score = model.evaluate(x_test, y_test, verbose=0)\n",
        "print('Test loss:', score[0])\n",
        "print('Test accuracy:', score[1])\n",
        "print('Computation time:{0:.3f} sec'.format(time.time() - start_time))"
      ],
      "metadata": {
        "colab": {
          "base_uri": "https://localhost:8080/"
        },
        "id": "VZYLcwEZMbc2",
        "outputId": "5f0df09e-5f44-44df-cb05-705ac8156195"
      },
      "execution_count": 10,
      "outputs": [
        {
          "output_type": "stream",
          "name": "stdout",
          "text": [
            "Test loss: 0.018408408388495445\n",
            "Test accuracy: 0.9937999844551086\n",
            "Computation time:7418.240 sec\n"
          ]
        }
      ]
    },
    {
      "cell_type": "code",
      "source": [
        "#学習結果２\n",
        "plt.plot(hist.history['accuracy'])\n",
        "plt.plot(hist.history['val_accuracy'])\n",
        "plt.title('Accuracy')\n",
        "plt.legend(['train', 'test'], loc='upper left')\n",
        "plt.show()\n",
        "plt.plot(hist.history['loss'])\n",
        "plt.plot(hist.history['val_loss'])\n",
        "plt.title('Loss')\n",
        "plt.legend(['train', 'test'], loc='upper left')\n",
        "plt.show()\n"
      ],
      "metadata": {
        "colab": {
          "base_uri": "https://localhost:8080/",
          "height": 545
        },
        "id": "c_l9oa00MdwB",
        "outputId": "dd854636-5ca4-45bc-b3fa-3cda8713b8e5"
      },
      "execution_count": 15,
      "outputs": [
        {
          "output_type": "display_data",
          "data": {
            "text/plain": [
              "<Figure size 432x288 with 1 Axes>"
            ],
            "image/png": "[encoded data removed]"
          },
          "metadata": {
            "needs_background": "light"
          }
        },
        {
          "output_type": "display_data",
          "data": {
            "text/plain": [
              "<Figure size 432x288 with 1 Axes>"
            ],
            "image/png": "[encoded data removed]"
          },
          "metadata": {
            "needs_background": "light"
          }
        }
      ]
    },
    {
      "cell_type": "code",
      "execution_count": 14,
      "metadata": {
        "colab": {
          "base_uri": "https://localhost:8080/",
          "height": 1000
        },
        "id": "oKZJ_eeLLg5z",
        "outputId": "feff7832-3db8-4d98-f553-a844f9e716f4"
      },
      "outputs": [
        {
          "output_type": "stream",
          "name": "stdout",
          "text": [
            "予測 7\n",
            "正解 7\n"
          ]
        },
        {
          "output_type": "display_data",
          "data": {
            "text/plain": [
              "<Figure size 432x288 with 1 Axes>"
            ],
            "image/png": "[encoded data removed]"
          },
          "metadata": {
            "needs_background": "light"
          }
        },
        {
          "output_type": "stream",
          "name": "stdout",
          "text": [
            "予測 2\n",
            "正解 2\n"
          ]
        },
        {
          "output_type": "display_data",
          "data": {
            "text/plain": [
              "<Figure size 432x288 with 1 Axes>"
            ],
            "image/png": "[encoded data removed]"
          },
          "metadata": {
            "needs_background": "light"
          }
        },
        {
          "output_type": "stream",
          "name": "stdout",
          "text": [
            "予測 1\n",
            "正解 1\n"
          ]
        },
        {
          "output_type": "display_data",
          "data": {
            "text/plain": [
              "<Figure size 432x288 with 1 Axes>"
            ],
            "image/png": "[encoded data removed]"
          },
          "metadata": {
            "needs_background": "light"
          }
        },
        {
          "output_type": "stream",
          "name": "stdout",
          "text": [
            "予測 0\n",
            "正解 0\n"
          ]
        },
        {
          "output_type": "display_data",
          "data": {
            "text/plain": [
              "<Figure size 432x288 with 1 Axes>"
            ],
            "image/png": "[encoded data removed]"
          },
          "metadata": {
            "needs_background": "light"
          }
        },
        {
          "output_type": "stream",
          "name": "stdout",
          "text": [
            "予測 4\n",
            "正解 4\n"
          ]
        },
        {
          "output_type": "display_data",
          "data": {
            "text/plain": [
              "<Figure size 432x288 with 1 Axes>"
            ],
            "image/png": "[encoded data removed]"
          },
          "metadata": {
            "needs_background": "light"
          }
        }
      ],
      "source": [
        "\n",
        "#学習結果３\n",
        "pred_result = np.argmax(model.predict(x_test), axis=-1)\n",
        "n_of_images = 5\n",
        "for i in range(n_of_images):\n",
        "  n = i\n",
        "  print(\"予測\", pred_result[n])\n",
        "  print(\"正解\", y_test_for_image[n])\n",
        "  plt.imshow(x_test[n].reshape(28, 28), cmap='Greys')\n",
        "  plt.show()\n"
      ]
    }
  ]
}